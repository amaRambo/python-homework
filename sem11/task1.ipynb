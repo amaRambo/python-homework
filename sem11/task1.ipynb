{
 "cells": [
  {
   "cell_type": "code",
   "execution_count": 1,
   "metadata": {},
   "outputs": [],
   "source": [
    "# | Задача 40: Работать с файлом california_housing_train.csv,\n",
    "# который находится в папке sample_data. Определить среднюю стоимость дома,\n",
    "# где кол-во людей от 0 до 500 (population)\n",
    "import pandas as pd \n",
    "df = pd.read_csv('california_housing_test.csv')"
   ]
  },
  {
   "cell_type": "code",
   "execution_count": 2,
   "metadata": {},
   "outputs": [
    {
     "data": {
      "text/plain": [
       "(3000, 9)"
      ]
     },
     "execution_count": 2,
     "metadata": {},
     "output_type": "execute_result"
    }
   ],
   "source": [
    "df.head(n=5)\n",
    "df.head\n",
    "df.shape"
   ]
  },
  {
   "cell_type": "code",
   "execution_count": 5,
   "metadata": {},
   "outputs": [
    {
     "data": {
      "text/plain": [
       "3       330000.0\n",
       "15      153100.0\n",
       "16      181300.0\n",
       "34      183800.0\n",
       "51       47500.0\n",
       "          ...   \n",
       "2929    179200.0\n",
       "2947    140600.0\n",
       "2960    500001.0\n",
       "2992    500001.0\n",
       "2998    162500.0\n",
       "Name: median_house_value, Length: 303, dtype: float64"
      ]
     },
     "execution_count": 5,
     "metadata": {},
     "output_type": "execute_result"
    }
   ],
   "source": [
    "df[df['population'] < 500]['median_house_value']\n"
   ]
  },
  {
   "cell_type": "code",
   "execution_count": null,
   "metadata": {},
   "outputs": [],
   "source": []
  }
 ],
 "metadata": {
  "kernelspec": {
   "display_name": "Python 3",
   "language": "python",
   "name": "python3"
  },
  "language_info": {
   "codemirror_mode": {
    "name": "ipython",
    "version": 3
   },
   "file_extension": ".py",
   "mimetype": "text/x-python",
   "name": "python",
   "nbconvert_exporter": "python",
   "pygments_lexer": "ipython3",
   "version": "3.10.9"
  },
  "orig_nbformat": 4,
  "vscode": {
   "interpreter": {
    "hash": "84d1dcc456f997abb7483ea6b80bb18abd35ffc6aa45e83451aed54b41cb8788"
   }
  }
 },
 "nbformat": 4,
 "nbformat_minor": 2
}
